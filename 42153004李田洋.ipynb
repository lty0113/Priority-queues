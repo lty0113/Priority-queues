{
 "cells": [
  {
   "cell_type": "markdown",
   "id": "1448db47",
   "metadata": {},
   "source": [
    "# Data Structure Final Project by 42153004李田洋\n",
    "## 2 Priority queues"
   ]
  },
  {
   "cell_type": "code",
   "execution_count": 1,
   "id": "1648e882",
   "metadata": {},
   "outputs": [],
   "source": [
    "class Node:\n",
    "    def __init__(self, key=None, next=None, pre = None):\n",
    "        self.key = key\n",
    "        self.next = next"
   ]
  },
  {
   "cell_type": "markdown",
   "id": "81936f44",
   "metadata": {},
   "source": [
    "#### 1: Design a complete binary tree ADT\n",
    "* Based on a singly linked list\n",
    "* The first element's index is 0\n",
    "* Given an index i, three operations: get its parent, left child, and right child, respectively"
   ]
  },
  {
   "cell_type": "code",
   "execution_count": 2,
   "id": "1989aa26",
   "metadata": {},
   "outputs": [],
   "source": [
    "class BinaryTree:\n",
    "    def __init__(self) -> None:\n",
    "        self.head = None\n",
    "        self.tail = None\n",
    "        self.count = -1\n",
    "        \n",
    "    def insert(self, key) -> None:\n",
    "        if self.head == None:\n",
    "            self.head = Node(key)\n",
    "            self.tail = self.head\n",
    "        else:\n",
    "            newNode = Node(key)\n",
    "            self.tail.next = newNode\n",
    "            self.tail = newNode\n",
    "        self.count += 1\n",
    "        \n",
    "    def getNode(self, i) -> Node:\n",
    "        if i > self.count or i < 0:\n",
    "            return None\n",
    "        cur = self.head\n",
    "        for i in range(i):\n",
    "            cur = cur.next\n",
    "        return cur\n",
    "    \n",
    "    def getParent(self, i: int) -> Node:\n",
    "        if i <= 0 or i > self.count:\n",
    "            return None\n",
    "        idx = (i - 1) // 2\n",
    "        cur = self.head\n",
    "        while idx > 0:\n",
    "            cur = cur.next\n",
    "            idx -= 1\n",
    "        return cur\n",
    "  \n",
    "    def getLeftChild(self, i: int) -> Node:\n",
    "        idx = i * 2 + 1\n",
    "        if i < 0 or idx > self.count or i > self.count: \n",
    "            return None\n",
    "        cur = self.head\n",
    "        while idx > 0:\n",
    "            cur = cur.next\n",
    "            idx -= 1\n",
    "        return cur\n",
    "\n",
    "    def getRightChild(self, i: int) -> Node:\n",
    "        idx = i * 2 + 2\n",
    "        if i < 0 or idx > self.count or i > self.count: \n",
    "            return None\n",
    "        cur = self.head\n",
    "        while idx > 0:\n",
    "            cur = cur.next\n",
    "            idx -= 1\n",
    "        return cur"
   ]
  },
  {
   "cell_type": "markdown",
   "id": "abc412a5",
   "metadata": {},
   "source": [
    "#### 2: Design a minimum priority queue\n",
    "#### · insert()<br>\n",
    "  Explanation: Firstly, insert the new key as a leaf node. Then bubble it up into the right place.\n",
    "#### · delMin()<br>\n",
    "  Explanation: \n",
    "   * Case 1: The priority queue is empty (i<0).<br>\n",
    "          None can be delete.\n",
    "   * Case 2: The priority queue only has one node.<br>\n",
    "          The head node is the minimum. Just delete the head node. That is to set the head node and tail node equal to None.\n",
    "   * Case 3: The priority queue has more than one node.<br>\n",
    "          The head node is the minimum node. Swap the head node for the tail node. Then delete the tail node. Finally, use the downward bubbling method to maintain the structure of the priority queue."
   ]
  },
  {
   "cell_type": "code",
   "execution_count": 3,
   "id": "361a7f04",
   "metadata": {},
   "outputs": [],
   "source": [
    "class PriorityQueue:\n",
    "    def __init__(self) -> None:\n",
    "        self.bt = BinaryTree()\n",
    "  \n",
    "    def __swap(self, a: Node, b: Node):\n",
    "        t = a.key\n",
    "        a.key = b.key\n",
    "        b.key = t\n",
    "\n",
    "    def up(self, i):\n",
    "        if i <= 0 or i > self.bt.count:\n",
    "            return \n",
    "        cur = self.bt.getNode(i)\n",
    "        parent = self.bt.getParent(i)\n",
    "        if parent != None:\n",
    "            if parent.key > cur.key:\n",
    "                self.__swap(parent, cur)\n",
    "                self.up((i - 1) // 2)\n",
    "\n",
    "    def down(self, i):\n",
    "        if i > self.bt.count:\n",
    "            return\n",
    "        t = i\n",
    "        if i * 2 + 1 <= self.bt.count and self.bt.getLeftChild(i).key < self.bt.getNode(t).key:\n",
    "            t = i * 2 + 1\n",
    "        if i * 2 + 2 <= self.bt.count and self.bt.getRightChild(i).key < self.bt.getNode(t).key:\n",
    "            t = i * 2 + 2\n",
    "        if t != i:\n",
    "            self.__swap(self.bt.getNode(t), self.bt.getNode(i))\n",
    "            self.down(t)\n",
    "\n",
    "    def insert(self, key):\n",
    "        self.bt.insert(key)\n",
    "        self.up(self.bt.count)\n",
    "\n",
    "    def delMin(self):\n",
    "        if self.bt.count < 0:\n",
    "            return None\n",
    "        minKey = self.bt.head.key\n",
    "        if self.bt.count == 0:\n",
    "            self.bt.head = None\n",
    "            self.bt.tail = None\n",
    "            self.bt.count -= 1\n",
    "            return minKey\n",
    "        self.__swap(self.bt.head, self.bt.tail)\n",
    "        cur = self.bt.head\n",
    "        while cur.next != self.bt.tail:\n",
    "            cur = cur.next\n",
    "        cur.next = None\n",
    "        self.bt.tail = cur\n",
    "        self.bt.count -= 1\n",
    "        self.down(0)\n",
    "        return minKey"
   ]
  },
  {
   "cell_type": "markdown",
   "id": "43560eb0",
   "metadata": {},
   "source": [
    "#### 3: Analyze the time complexity\n",
    "* insert(): O(nlogn)\n",
    "* delMin(): O(nlogn)"
   ]
  },
  {
   "cell_type": "markdown",
   "id": "6d257127",
   "metadata": {},
   "source": [
    "#### 4: Visualization the priority queue benchmark\n",
    "* test run"
   ]
  },
  {
   "cell_type": "code",
   "execution_count": 4,
   "id": "c513a690",
   "metadata": {},
   "outputs": [],
   "source": [
    "if __name__ == \"__main__\":\n",
    "    p = PriorityQueue()\n",
    "    p.insert(4)\n",
    "    p.insert(45)\n",
    "    p.insert(2)\n",
    "    p.insert(1)\n",
    "    p.insert(3)\n",
    "    p.insert(333)\n",
    "    p.insert(23)\n",
    "    \n",
    "    p.delMin()"
   ]
  },
  {
   "cell_type": "markdown",
   "id": "4f5c0510",
   "metadata": {},
   "source": [
    "* insert() and delMin() benchmark"
   ]
  },
  {
   "cell_type": "code",
   "execution_count": 5,
   "id": "8492cb3f",
   "metadata": {},
   "outputs": [
    {
     "name": "stdout",
     "output_type": "stream",
     "text": [
      "element size: [100, 200, 300, 400, 500, 600, 700, 800, 900, 1000, 1100, 1200, 1300, 1400, 1500, 1600, 1700, 1800, 1900, 2000]\n",
      "insert time: [0.0009999275207519531, 0.0019998550415039062, 0.0041544437408447266, 0.0060100555419921875, 0.010393619537353516, 0.01463460922241211, 0.019662141799926758, 0.02553272247314453, 0.033429861068725586, 0.0396120548248291, 0.04925346374511719, 0.05588936805725098, 0.06653666496276855, 0.07822680473327637, 0.08669853210449219, 0.1017143726348877, 0.11757898330688477, 0.15702533721923828, 0.1445784568786621, 0.15997028350830078]\n"
     ]
    },
    {
     "data": {
      "image/png": "[encoded data removed]",
      "text/plain": [
       "<Figure size 432x288 with 1 Axes>"
      ]
     },
     "metadata": {
      "needs_background": "light"
     },
     "output_type": "display_data"
    },
    {
     "name": "stdout",
     "output_type": "stream",
     "text": [
      "element size: [100, 200, 300, 400, 500, 600, 700, 800, 900, 1000, 1100, 1200, 1300, 1400, 1500, 1600, 1700, 1800, 1900, 2000]\n",
      "delete time: [0.0020067691802978516, 0.007405996322631836, 0.016006946563720703, 0.02699899673461914, 0.04151320457458496, 0.05800008773803711, 0.08003473281860352, 0.10862445831298828, 0.13450241088867188, 0.16153335571289062, 0.19239234924316406, 0.23011398315429688, 0.2711470127105713, 0.31639981269836426, 0.3527553081512451, 0.4031684398651123, 0.46593260765075684, 0.5116286277770996, 0.5820639133453369, 0.6557905673980713]\n"
     ]
    },
    {
     "data": {
      "image/png": "[encoded data removed]",
      "text/plain": [
       "<Figure size 432x288 with 1 Axes>"
      ]
     },
     "metadata": {
      "needs_background": "light"
     },
     "output_type": "display_data"
    }
   ],
   "source": [
    "from time import time\n",
    "import random\n",
    "import matplotlib.pyplot as plt\n",
    "\n",
    "x = []\n",
    "e = 100\n",
    "for i in range(20):\n",
    "  x.append(e)\n",
    "  e += 100\n",
    "    \n",
    "def test_time(fn, *args, **kwargs):\n",
    "    start_time = time()\n",
    "    fn(*args, **kwargs)\n",
    "    end_time = time()\n",
    "    return end_time - start_time\n",
    "\n",
    "def test_insert_time(x):\n",
    "    pq = PriorityQueue()\n",
    "    for i in range(x):\n",
    "        e = random.randint(0, 1000000)\n",
    "        pq.insert(e)\n",
    "    return pq\n",
    "\n",
    "def show_insert_time(x:list):\n",
    "    y = []\n",
    "    for e in x:\n",
    "        y.append(test_time(test_insert_time, e))\n",
    "    print(\"element size:\", x)\n",
    "    print(\"insert time:\", y)    \n",
    "    plt.xlabel('element size')\n",
    "    plt.ylabel('insert time')\n",
    "    plt.ylim(-0.5, 1.5)\n",
    "    plt.plot(x, y)\n",
    "    plt.show()\n",
    "\n",
    "def test_delete_time(pq: PriorityQueue):\n",
    "    while pq.delMin() != None:\n",
    "        continue\n",
    "\n",
    "def show_delete_time(x: list):\n",
    "    pqs = []\n",
    "    y = []\n",
    "    for e in x:\n",
    "        pqs.append(test_insert_time(e))\n",
    "    for pq in pqs:\n",
    "        y.append(test_time(test_delete_time, pq))\n",
    "    print(\"element size:\", x)\n",
    "    print(\"delete time:\", y)    \n",
    "    plt.xlabel('element size')\n",
    "    plt.ylabel('delete time')\n",
    "    plt.ylim(-0.5, 3.5)\n",
    "    plt.plot(x, y)\n",
    "    plt.show()\n",
    "\n",
    "\n",
    "show_insert_time(x)\n",
    "show_delete_time(x)"
   ]
  },
  {
   "cell_type": "markdown",
   "id": "6c724ad2",
   "metadata": {},
   "source": [
    "#### 5: Draw the tree structure"
   ]
  },
  {
   "cell_type": "code",
   "execution_count": null,
   "id": "a8fb9631",
   "metadata": {},
   "outputs": [],
   "source": [
    "from graphviz import Digraph\n",
    "\n",
    "def dot(pq: PriorityQueue):\n",
    "    g = Digraph(format='png')\n",
    "    def draw(g: Digraph, pq: PriorityQueue, i: int):\n",
    "        if i > pq.bt.count:\n",
    "            return \n",
    "        node = pq.bt.getNode(i)\n",
    "        if node != None:\n",
    "            leftChild = pq.bt.getLeftChild(i)\n",
    "            if leftChild != None:\n",
    "                g.edge(str(node.key), str(leftChild.key))\n",
    "                draw(g, pq, i * 2 + 1)\n",
    "            rightChild = pq.bt.getRightChild(i)\n",
    "            if rightChild != None:\n",
    "                g.edge(str(node.key), str(rightChild.key))\n",
    "                draw(g, pq, i * 2 + 2)\n",
    "    draw(g, pq, 0)\n",
    "    g.view()\n",
    "\n",
    "p = PriorityQueue()\n",
    "p.insert(4)\n",
    "p.insert(45)\n",
    "p.insert(2)\n",
    "p.insert(1)\n",
    "p.insert(3)\n",
    "p.insert(333)\n",
    "p.insert(23)\n",
    "\n",
    "p.delMin()\n",
    "\n",
    "dot(p)"
   ]
  }
 ],
 "metadata": {
  "kernelspec": {
   "display_name": "Python 3 (ipykernel)",
   "language": "python",
   "name": "python3"
  },
  "language_info": {
   "codemirror_mode": {
    "name": "ipython",
    "version": 3
   },
   "file_extension": ".py",
   "mimetype": "text/x-python",
   "name": "python",
   "nbconvert_exporter": "python",
   "pygments_lexer": "ipython3",
   "version": "3.9.7"
  }
 },
 "nbformat": 4,
 "nbformat_minor": 5
}
